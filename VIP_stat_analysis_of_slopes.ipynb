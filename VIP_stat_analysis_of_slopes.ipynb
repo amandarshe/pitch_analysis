{
  "nbformat": 4,
  "nbformat_minor": 0,
  "metadata": {
    "colab": {
      "provenance": [],
      "collapsed_sections": [],
      "authorship_tag": "ABX9TyNQptLEmUkjOY5xG4KC7Njh",
      "include_colab_link": true
    },
    "kernelspec": {
      "name": "python3",
      "display_name": "Python 3"
    },
    "language_info": {
      "name": "python"
    }
  },
  "cells": [
    {
      "cell_type": "markdown",
      "metadata": {
        "id": "view-in-github",
        "colab_type": "text"
      },
      "source": [
        "<a href=\"https://colab.research.google.com/github/amandarshe/pitch_analysis/blob/main/VIP_stat_analysis_of_slopes.ipynb\" target=\"_parent\"><img src=\"https://colab.research.google.com/assets/colab-badge.svg\" alt=\"Open In Colab\"/></a>"
      ]
    },
    {
      "cell_type": "code",
      "source": [
        "import statistics\n",
        "import matplotlib.pyplot as plt\n",
        "import numpy as np"
      ],
      "metadata": {
        "id": "wWujFobLnnli"
      },
      "execution_count": null,
      "outputs": []
    },
    {
      "cell_type": "code",
      "execution_count": null,
      "metadata": {
        "colab": {
          "base_uri": "https://localhost:8080/",
          "height": 739
        },
        "id": "5T__eEF7hb4m",
        "outputId": "41d5024d-dd01-4c9e-8925-bb13619f7bb6"
      },
      "outputs": [
        {
          "output_type": "stream",
          "name": "stdout",
          "text": [
            "mean:\n",
            "-1.1783895925925927\n",
            "median:\n",
            "0.519\n",
            "STD:\n",
            "8.432296914555543\n"
          ]
        },
        {
          "output_type": "display_data",
          "data": {
            "text/plain": [
              "<Figure size 432x288 with 1 Axes>"
            ],
            "image/png": "[encoded data removed]"
          },
          "metadata": {
            "needs_background": "light"
          }
        },
        {
          "output_type": "stream",
          "name": "stdout",
          "text": [
            "whiskers:\n",
            "[-2.06, 5.805]\n",
            "lower and upper quartiles:\n",
            "[array([-0.8855,  1.9745])]\n"
          ]
        },
        {
          "output_type": "display_data",
          "data": {
            "text/plain": [
              "<Figure size 432x288 with 1 Axes>"
            ],
            "image/png": "[encoded data removed]"
          },
          "metadata": {
            "needs_background": "light"
          }
        },
        {
          "output_type": "stream",
          "name": "stdout",
          "text": [
            "-10to-5; -5to-1; -1to-0.1; -0.1to0; 0-0.1; 0.1-1; 1-5; 5-10\n",
            "[1.0, 1.0, 4.0, 2.0, 0.0, 4.0, 9.0, 1.0]\n",
            "27\n"
          ]
        }
      ],
      "source": [
        "#only tone 2\n",
        "\n",
        "tone2 = [2.066, 5.805, -0.005039, 4.601, 1.959, -0.03908, 3.525, -19.78, 0.519, -13.91, -2.06, -23.14, 1.11, 20.87, -0.9657, -0.3003, 0.8435, -0.8053]\n",
        "tone2 = tone2 + [1.033, 2.809, -5.23, -0.6606, -14.28, 1.99, 1.25, 0.1443, 0.8347]\n",
        "mean2 = statistics.mean(tone2)\n",
        "median2 = statistics.median(tone2)\n",
        "std2 = statistics.stdev(tone2)\n",
        "print(\"mean:\")\n",
        "print(mean2)\n",
        "print(\"median:\")\n",
        "print(median2)\n",
        "print(\"STD:\")\n",
        "print(std2)\n",
        "\n",
        "t2_data = plt.boxplot(tone2)\n",
        "plt.show()\n",
        "print(\"whiskers:\")\n",
        "print([item.get_ydata()[1] for item in t2_data['whiskers']])\n",
        "print(\"lower and upper quartiles:\")\n",
        "print([item.get_ydata()[1:3] for item in t2_data['boxes']])\n",
        "\n",
        "t2_hist = plt.hist(tone2, range=(-10,10), bins=200)\n",
        "plt.show()\n",
        "values = t2_hist[0]\n",
        "bins = []\n",
        "bins.append(np.sum(values[0:50]))\n",
        "bins.append(np.sum(values[50:90]))\n",
        "bins.append(np.sum(values[90:99]))\n",
        "bins.append(np.sum(values[99:100]))\n",
        "bins.append(np.sum(values[100:101]))\n",
        "bins.append(np.sum(values[101:110]))\n",
        "bins.append(np.sum(values[110:150]))\n",
        "bins.append(np.sum(values[150:200]))\n",
        "print(\"-10to-5; -5to-1; -1to-0.1; -0.1to0; 0-0.1; 0.1-1; 1-5; 5-10\")\n",
        "print(bins)\n",
        "\n",
        "print(len(tone2))\n"
      ]
    },
    {
      "cell_type": "code",
      "source": [
        "#only tone 4\n",
        "\n",
        "tone4 = [17.33, -7.031, -2.318, -7.772, 0.1923, 31.88, 18.02, 2.825, -23.83, -5.327, 13.29, 4.733, -3.043, -18.46, -2.021, -0.659, -0.09308, 0.05227, 79.91, -2.553, 0.09553, -1.049, -0.8293, 0.0287, -2.816, -0.7728, -0.0003447, -3.57, -3.044, -0.1278, -1.051, 0.8989, 3.129, 1.836, 11.68, 12.43, 10.3, -19.99, -0.6501, -0.4302, -7.508, 0.2732, -0.1802, -4.425, -1.741, -5.748, -2.536, -0.5332, 11.1, 3.256, -6.133, -1.738, 133.2, -7.216, -4.877, -6.801, -2.022, -2.472, 0.1871, 0.5454, 1.807, -20.22, -1.28, 1.313, -1.865, -1.577]\n",
        "ton4 = tone4 + [2.683, -3.532, -5.529, -12.37, -6.247, -13.99, -6.374, 2.47, -6.16, -2.055, 0.9462, -4.406, -1.223, -0.1516, -0.9669, -4.954, 3.952, -0.1667, -0.2708, -0.09121, -1.26, -1.393, -0.1587, -4.244, -0.5847, -3.074, -1.109, -0.4952, -0.7771, 0.1054, -1.764, -3.456, -1.548, -1.754, -1.434, -8.158, -3.756]\n",
        "mean4 = statistics.mean(tone4)\n",
        "median4 = statistics.median(tone4)\n",
        "std4 = statistics.stdev(tone4)\n",
        "print(\"mean:\")\n",
        "print(mean4)\n",
        "print(\"median:\")\n",
        "print(median4)\n",
        "print(\"STD:\")\n",
        "print(std4)\n",
        "\n",
        "t4_data = plt.boxplot(tone4)\n",
        "plt.show()\n",
        "print(\"whiskers:\")\n",
        "print([item.get_ydata()[1] for item in t4_data['whiskers']])\n",
        "print(\"lower and upper quartiles:\")\n",
        "print([item.get_ydata()[1:3] for item in t4_data['boxes']])\n",
        "\n",
        "\n",
        "t4_hist = plt.hist(tone4, range=(-10,10), bins=200)\n",
        "plt.show()\n",
        "values = t4_hist[0]\n",
        "bins = []\n",
        "bins.append(np.sum(values[0:50]))\n",
        "bins.append(np.sum(values[50:90]))\n",
        "bins.append(np.sum(values[90:99]))\n",
        "bins.append(np.sum(values[99:100]))\n",
        "bins.append(np.sum(values[100:101]))\n",
        "bins.append(np.sum(values[101:110]))\n",
        "bins.append(np.sum(values[110:150]))\n",
        "bins.append(np.sum(values[150:200]))\n",
        "print(\"-10to-5; -5to-1; -1to-0.1; -0.1to0; 0-0.1; 0.1-1; 1-5; 5-10\")\n",
        "print(bins)\n",
        "\n",
        "print(len(tone4))\n"
      ],
      "metadata": {
        "colab": {
          "base_uri": "https://localhost:8080/",
          "height": 742
        },
        "id": "3gGANNanneTz",
        "outputId": "e72ab1ef-7ef9-4861-ae5e-f3454aa190d3"
      },
      "execution_count": null,
      "outputs": [
        {
          "output_type": "stream",
          "name": "stdout",
          "text": [
            "mean:\n",
            "2.6363996257575755\n",
            "median:\n",
            "-0.7159\n",
            "STD:\n",
            "20.85927058630219\n"
          ]
        },
        {
          "output_type": "display_data",
          "data": {
            "text/plain": [
              "<Figure size 432x288 with 1 Axes>"
            ],
            "image/png": "[encoded data removed]"
          },
          "metadata": {
            "needs_background": "light"
          }
        },
        {
          "output_type": "stream",
          "name": "stdout",
          "text": [
            "whiskers:\n",
            "[-7.772, 4.733]\n",
            "lower and upper quartiles:\n",
            "[array([-2.98625 ,  1.209475])]\n"
          ]
        },
        {
          "output_type": "display_data",
          "data": {
            "text/plain": [
              "<Figure size 432x288 with 1 Axes>"
            ],
            "image/png": "[encoded data removed]"
          },
          "metadata": {
            "needs_background": "light"
          }
        },
        {
          "output_type": "stream",
          "name": "stdout",
          "text": [
            "-10to-5; -5to-1; -1to-0.1; -0.1to0; 0-0.1; 0.1-1; 1-5; 5-10\n",
            "[8.0, 19.0, 8.0, 2.0, 3.0, 5.0, 7.0, 0.0]\n",
            "66\n"
          ]
        }
      ]
    },
    {
      "cell_type": "code",
      "source": [
        "#tone 2 and 4\n",
        "\n",
        "tone = tone2 + tone4\n",
        "\n",
        "mean = statistics.mean(tone)\n",
        "median = statistics.median(tone)\n",
        "std = statistics.stdev(tone)\n",
        "print(\"mean:\")\n",
        "print(mean)\n",
        "print(\"median:\")\n",
        "print(median)\n",
        "print(\"STD:\")\n",
        "print(std)\n",
        "\n",
        "t_box = plt.boxplot(tone)\n",
        "plt.show()\n",
        "print(\"whiskers:\")\n",
        "print([item.get_ydata()[1] for item in t_box['whiskers']])\n",
        "print(\"lower and upper quartiles:\")\n",
        "print([item.get_ydata()[1:3] for item in t_box['boxes']])\n",
        "\n",
        "t_hist = plt.hist(tone, range=(-10,10), bins=200)\n",
        "plt.show()\n",
        "values = t_hist[0]\n",
        "bins = []\n",
        "bins.append(np.sum(values[0:50]))\n",
        "bins.append(np.sum(values[50:90]))\n",
        "bins.append(np.sum(values[90:99]))\n",
        "bins.append(np.sum(values[99:100]))\n",
        "bins.append(np.sum(values[100:101]))\n",
        "bins.append(np.sum(values[101:110]))\n",
        "bins.append(np.sum(values[110:150]))\n",
        "bins.append(np.sum(values[150:200]))\n",
        "print(\"-10to-5; -5to-1; -1to-0.1; -0.1to0; 0-0.1; 0.1-1; 1-5; 5-10\")\n",
        "print(bins)\n",
        "\n",
        "print(len(tone2))\n",
        "print(len(tone4))"
      ],
      "metadata": {
        "colab": {
          "base_uri": "https://localhost:8080/",
          "height": 759
        },
        "id": "CtxbXd_ZqoTo",
        "outputId": "5df17bfa-8808-4462-fb74-df4dd476b9c5"
      },
      "execution_count": null,
      "outputs": [
        {
          "output_type": "stream",
          "name": "stdout",
          "text": [
            "mean:\n",
            "1.528880175268817\n",
            "median:\n",
            "-0.3003\n",
            "STD:\n",
            "18.180746307156276\n"
          ]
        },
        {
          "output_type": "display_data",
          "data": {
            "text/plain": [
              "<Figure size 432x288 with 1 Axes>"
            ],
            "image/png": "[encoded data removed]"
          },
          "metadata": {
            "needs_background": "light"
          }
        },
        {
          "output_type": "stream",
          "name": "stdout",
          "text": [
            "whiskers:\n",
            "[-7.772, 5.805]\n",
            "lower and upper quartiles:\n",
            "[array([-2.553,  1.807])]\n"
          ]
        },
        {
          "output_type": "display_data",
          "data": {
            "text/plain": [
              "<Figure size 432x288 with 1 Axes>"
            ],
            "image/png": "[encoded data removed]"
          },
          "metadata": {
            "needs_background": "light"
          }
        },
        {
          "output_type": "stream",
          "name": "stdout",
          "text": [
            "-10to-5; -5to-1; -1to-0.1; -0.1to0; 0-0.1; 0.1-1; 1-5; 5-10\n",
            "[9.0, 20.0, 12.0, 4.0, 3.0, 9.0, 16.0, 1.0]\n",
            "27\n",
            "66\n"
          ]
        }
      ]
    }
  ]
}